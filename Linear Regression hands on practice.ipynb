{
 "cells": [
  {
   "cell_type": "code",
   "execution_count": 1,
   "id": "5c960661",
   "metadata": {},
   "outputs": [],
   "source": [
    "import pandas as pd\n",
    "import numpy as np\n",
    "import matplotlib.pyplot as plt"
   ]
  },
  {
   "cell_type": "code",
   "execution_count": 2,
   "id": "f861e877",
   "metadata": {},
   "outputs": [],
   "source": [
    "insurance=pd.read_csv(r'C:\\Users\\harshal gidh\\Desktop\\Python\\HandsOn\\new_insurance_data\\new_insurance_data.csv')"
   ]
  },
  {
   "cell_type": "code",
   "execution_count": 3,
   "id": "da8ad053",
   "metadata": {},
   "outputs": [
    {
     "data": {
      "text/html": [
       "<div>\n",
       "<style scoped>\n",
       "    .dataframe tbody tr th:only-of-type {\n",
       "        vertical-align: middle;\n",
       "    }\n",
       "\n",
       "    .dataframe tbody tr th {\n",
       "        vertical-align: top;\n",
       "    }\n",
       "\n",
       "    .dataframe thead th {\n",
       "        text-align: right;\n",
       "    }\n",
       "</style>\n",
       "<table border=\"1\" class=\"dataframe\">\n",
       "  <thead>\n",
       "    <tr style=\"text-align: right;\">\n",
       "      <th></th>\n",
       "      <th>age</th>\n",
       "      <th>sex</th>\n",
       "      <th>bmi</th>\n",
       "      <th>children</th>\n",
       "      <th>smoker</th>\n",
       "      <th>Claim_Amount</th>\n",
       "      <th>past_consultations</th>\n",
       "      <th>num_of_steps</th>\n",
       "      <th>Hospital_expenditure</th>\n",
       "      <th>NUmber_of_past_hospitalizations</th>\n",
       "      <th>Anual_Salary</th>\n",
       "      <th>region</th>\n",
       "      <th>charges</th>\n",
       "    </tr>\n",
       "  </thead>\n",
       "  <tbody>\n",
       "    <tr>\n",
       "      <th>0</th>\n",
       "      <td>18.0</td>\n",
       "      <td>male</td>\n",
       "      <td>23.210</td>\n",
       "      <td>0.0</td>\n",
       "      <td>no</td>\n",
       "      <td>29087.54313</td>\n",
       "      <td>17.0</td>\n",
       "      <td>715428.0</td>\n",
       "      <td>4.720921e+06</td>\n",
       "      <td>0.0</td>\n",
       "      <td>5.578497e+07</td>\n",
       "      <td>southeast</td>\n",
       "      <td>1121.87390</td>\n",
       "    </tr>\n",
       "    <tr>\n",
       "      <th>1</th>\n",
       "      <td>18.0</td>\n",
       "      <td>male</td>\n",
       "      <td>30.140</td>\n",
       "      <td>0.0</td>\n",
       "      <td>no</td>\n",
       "      <td>39053.67437</td>\n",
       "      <td>7.0</td>\n",
       "      <td>699157.0</td>\n",
       "      <td>4.329832e+06</td>\n",
       "      <td>0.0</td>\n",
       "      <td>1.370089e+07</td>\n",
       "      <td>southeast</td>\n",
       "      <td>1131.50660</td>\n",
       "    </tr>\n",
       "    <tr>\n",
       "      <th>2</th>\n",
       "      <td>18.0</td>\n",
       "      <td>male</td>\n",
       "      <td>33.330</td>\n",
       "      <td>0.0</td>\n",
       "      <td>no</td>\n",
       "      <td>39023.62759</td>\n",
       "      <td>19.0</td>\n",
       "      <td>702341.0</td>\n",
       "      <td>6.884861e+06</td>\n",
       "      <td>0.0</td>\n",
       "      <td>7.352311e+07</td>\n",
       "      <td>southeast</td>\n",
       "      <td>1135.94070</td>\n",
       "    </tr>\n",
       "    <tr>\n",
       "      <th>3</th>\n",
       "      <td>18.0</td>\n",
       "      <td>male</td>\n",
       "      <td>33.660</td>\n",
       "      <td>0.0</td>\n",
       "      <td>no</td>\n",
       "      <td>28185.39332</td>\n",
       "      <td>11.0</td>\n",
       "      <td>700250.0</td>\n",
       "      <td>4.274774e+06</td>\n",
       "      <td>0.0</td>\n",
       "      <td>7.581968e+07</td>\n",
       "      <td>southeast</td>\n",
       "      <td>1136.39940</td>\n",
       "    </tr>\n",
       "    <tr>\n",
       "      <th>4</th>\n",
       "      <td>18.0</td>\n",
       "      <td>male</td>\n",
       "      <td>34.100</td>\n",
       "      <td>0.0</td>\n",
       "      <td>no</td>\n",
       "      <td>14697.85941</td>\n",
       "      <td>16.0</td>\n",
       "      <td>711584.0</td>\n",
       "      <td>3.787294e+06</td>\n",
       "      <td>0.0</td>\n",
       "      <td>2.301232e+07</td>\n",
       "      <td>southeast</td>\n",
       "      <td>1137.01100</td>\n",
       "    </tr>\n",
       "    <tr>\n",
       "      <th>...</th>\n",
       "      <td>...</td>\n",
       "      <td>...</td>\n",
       "      <td>...</td>\n",
       "      <td>...</td>\n",
       "      <td>...</td>\n",
       "      <td>...</td>\n",
       "      <td>...</td>\n",
       "      <td>...</td>\n",
       "      <td>...</td>\n",
       "      <td>...</td>\n",
       "      <td>...</td>\n",
       "      <td>...</td>\n",
       "      <td>...</td>\n",
       "    </tr>\n",
       "    <tr>\n",
       "      <th>1333</th>\n",
       "      <td>33.0</td>\n",
       "      <td>female</td>\n",
       "      <td>35.530</td>\n",
       "      <td>0.0</td>\n",
       "      <td>yes</td>\n",
       "      <td>63142.25346</td>\n",
       "      <td>32.0</td>\n",
       "      <td>1091267.0</td>\n",
       "      <td>1.703805e+08</td>\n",
       "      <td>2.0</td>\n",
       "      <td>3.101107e+09</td>\n",
       "      <td>northwest</td>\n",
       "      <td>55135.40209</td>\n",
       "    </tr>\n",
       "    <tr>\n",
       "      <th>1334</th>\n",
       "      <td>31.0</td>\n",
       "      <td>female</td>\n",
       "      <td>38.095</td>\n",
       "      <td>1.0</td>\n",
       "      <td>yes</td>\n",
       "      <td>43419.95227</td>\n",
       "      <td>31.0</td>\n",
       "      <td>1107872.0</td>\n",
       "      <td>2.015152e+08</td>\n",
       "      <td>2.0</td>\n",
       "      <td>3.484216e+09</td>\n",
       "      <td>northeast</td>\n",
       "      <td>58571.07448</td>\n",
       "    </tr>\n",
       "    <tr>\n",
       "      <th>1335</th>\n",
       "      <td>52.0</td>\n",
       "      <td>male</td>\n",
       "      <td>34.485</td>\n",
       "      <td>3.0</td>\n",
       "      <td>yes</td>\n",
       "      <td>52458.92353</td>\n",
       "      <td>25.0</td>\n",
       "      <td>1092005.0</td>\n",
       "      <td>2.236450e+08</td>\n",
       "      <td>2.0</td>\n",
       "      <td>3.640807e+09</td>\n",
       "      <td>northwest</td>\n",
       "      <td>60021.39897</td>\n",
       "    </tr>\n",
       "    <tr>\n",
       "      <th>1336</th>\n",
       "      <td>45.0</td>\n",
       "      <td>male</td>\n",
       "      <td>30.360</td>\n",
       "      <td>0.0</td>\n",
       "      <td>yes</td>\n",
       "      <td>69927.51664</td>\n",
       "      <td>34.0</td>\n",
       "      <td>1106821.0</td>\n",
       "      <td>2.528924e+08</td>\n",
       "      <td>3.0</td>\n",
       "      <td>4.006359e+09</td>\n",
       "      <td>southeast</td>\n",
       "      <td>62592.87309</td>\n",
       "    </tr>\n",
       "    <tr>\n",
       "      <th>1337</th>\n",
       "      <td>54.0</td>\n",
       "      <td>female</td>\n",
       "      <td>47.410</td>\n",
       "      <td>0.0</td>\n",
       "      <td>yes</td>\n",
       "      <td>63982.80926</td>\n",
       "      <td>31.0</td>\n",
       "      <td>1100328.0</td>\n",
       "      <td>2.616317e+08</td>\n",
       "      <td>3.0</td>\n",
       "      <td>4.117197e+09</td>\n",
       "      <td>southeast</td>\n",
       "      <td>63770.42801</td>\n",
       "    </tr>\n",
       "  </tbody>\n",
       "</table>\n",
       "<p>1338 rows × 13 columns</p>\n",
       "</div>"
      ],
      "text/plain": [
       "       age     sex     bmi  children smoker  Claim_Amount  past_consultations  \\\n",
       "0     18.0    male  23.210       0.0     no   29087.54313                17.0   \n",
       "1     18.0    male  30.140       0.0     no   39053.67437                 7.0   \n",
       "2     18.0    male  33.330       0.0     no   39023.62759                19.0   \n",
       "3     18.0    male  33.660       0.0     no   28185.39332                11.0   \n",
       "4     18.0    male  34.100       0.0     no   14697.85941                16.0   \n",
       "...    ...     ...     ...       ...    ...           ...                 ...   \n",
       "1333  33.0  female  35.530       0.0    yes   63142.25346                32.0   \n",
       "1334  31.0  female  38.095       1.0    yes   43419.95227                31.0   \n",
       "1335  52.0    male  34.485       3.0    yes   52458.92353                25.0   \n",
       "1336  45.0    male  30.360       0.0    yes   69927.51664                34.0   \n",
       "1337  54.0  female  47.410       0.0    yes   63982.80926                31.0   \n",
       "\n",
       "      num_of_steps  Hospital_expenditure  NUmber_of_past_hospitalizations  \\\n",
       "0         715428.0          4.720921e+06                              0.0   \n",
       "1         699157.0          4.329832e+06                              0.0   \n",
       "2         702341.0          6.884861e+06                              0.0   \n",
       "3         700250.0          4.274774e+06                              0.0   \n",
       "4         711584.0          3.787294e+06                              0.0   \n",
       "...            ...                   ...                              ...   \n",
       "1333     1091267.0          1.703805e+08                              2.0   \n",
       "1334     1107872.0          2.015152e+08                              2.0   \n",
       "1335     1092005.0          2.236450e+08                              2.0   \n",
       "1336     1106821.0          2.528924e+08                              3.0   \n",
       "1337     1100328.0          2.616317e+08                              3.0   \n",
       "\n",
       "      Anual_Salary     region      charges  \n",
       "0     5.578497e+07  southeast   1121.87390  \n",
       "1     1.370089e+07  southeast   1131.50660  \n",
       "2     7.352311e+07  southeast   1135.94070  \n",
       "3     7.581968e+07  southeast   1136.39940  \n",
       "4     2.301232e+07  southeast   1137.01100  \n",
       "...            ...        ...          ...  \n",
       "1333  3.101107e+09  northwest  55135.40209  \n",
       "1334  3.484216e+09  northeast  58571.07448  \n",
       "1335  3.640807e+09  northwest  60021.39897  \n",
       "1336  4.006359e+09  southeast  62592.87309  \n",
       "1337  4.117197e+09  southeast  63770.42801  \n",
       "\n",
       "[1338 rows x 13 columns]"
      ]
     },
     "execution_count": 3,
     "metadata": {},
     "output_type": "execute_result"
    }
   ],
   "source": [
    "insurance\n"
   ]
  },
  {
   "cell_type": "code",
   "execution_count": 4,
   "id": "43b915c4",
   "metadata": {},
   "outputs": [
    {
     "data": {
      "text/plain": [
       "(1338, 13)"
      ]
     },
     "execution_count": 4,
     "metadata": {},
     "output_type": "execute_result"
    }
   ],
   "source": [
    " insurance.shape"
   ]
  },
  {
   "cell_type": "code",
   "execution_count": 5,
   "id": "800c9951",
   "metadata": {},
   "outputs": [
    {
     "name": "stdout",
     "output_type": "stream",
     "text": [
      "<class 'pandas.core.frame.DataFrame'>\n",
      "RangeIndex: 1338 entries, 0 to 1337\n",
      "Data columns (total 13 columns):\n",
      " #   Column                           Non-Null Count  Dtype  \n",
      "---  ------                           --------------  -----  \n",
      " 0   age                              1329 non-null   float64\n",
      " 1   sex                              1338 non-null   object \n",
      " 2   bmi                              1335 non-null   float64\n",
      " 3   children                         1333 non-null   float64\n",
      " 4   smoker                           1338 non-null   object \n",
      " 5   Claim_Amount                     1324 non-null   float64\n",
      " 6   past_consultations               1332 non-null   float64\n",
      " 7   num_of_steps                     1335 non-null   float64\n",
      " 8   Hospital_expenditure             1334 non-null   float64\n",
      " 9   NUmber_of_past_hospitalizations  1336 non-null   float64\n",
      " 10  Anual_Salary                     1332 non-null   float64\n",
      " 11  region                           1338 non-null   object \n",
      " 12  charges                          1338 non-null   float64\n",
      "dtypes: float64(10), object(3)\n",
      "memory usage: 136.0+ KB\n"
     ]
    }
   ],
   "source": [
    "insurance.info()"
   ]
  },
  {
   "cell_type": "code",
   "execution_count": 6,
   "id": "43fa78e3",
   "metadata": {},
   "outputs": [
    {
     "data": {
      "text/plain": [
       "age                                 9\n",
       "sex                                 0\n",
       "bmi                                 3\n",
       "children                            5\n",
       "smoker                              0\n",
       "Claim_Amount                       14\n",
       "past_consultations                  6\n",
       "num_of_steps                        3\n",
       "Hospital_expenditure                4\n",
       "NUmber_of_past_hospitalizations     2\n",
       "Anual_Salary                        6\n",
       "region                              0\n",
       "charges                             0\n",
       "dtype: int64"
      ]
     },
     "execution_count": 6,
     "metadata": {},
     "output_type": "execute_result"
    }
   ],
   "source": [
    "insurance.isnull().sum()"
   ]
  },
  {
   "cell_type": "markdown",
   "id": "ca1c5cb7",
   "metadata": {},
   "source": [
    "#prefer median to replace null values instead of mean as mean is influenced by outliers and skewness will chnage mean's value"
   ]
  },
  {
   "cell_type": "markdown",
   "id": "0a43060e",
   "metadata": {},
   "source": [
    "If dataset is small dropping columns would affect the data. If 50% of data is null we can drop "
   ]
  },
  {
   "cell_type": "code",
   "execution_count": 7,
   "id": "384791fd",
   "metadata": {},
   "outputs": [
    {
     "data": {
      "text/plain": [
       "Index(['age', 'sex', 'bmi', 'children', 'smoker', 'Claim_Amount',\n",
       "       'past_consultations', 'num_of_steps', 'Hospital_expenditure',\n",
       "       'NUmber_of_past_hospitalizations', 'Anual_Salary', 'region', 'charges'],\n",
       "      dtype='object')"
      ]
     },
     "execution_count": 7,
     "metadata": {},
     "output_type": "execute_result"
    }
   ],
   "source": [
    "insurance.columns\n"
   ]
  },
  {
   "cell_type": "code",
   "execution_count": 8,
   "id": "72401edc",
   "metadata": {},
   "outputs": [],
   "source": [
    "col=list(insurance.columns)"
   ]
  },
  {
   "cell_type": "code",
   "execution_count": 9,
   "id": "6f11f2cb",
   "metadata": {},
   "outputs": [
    {
     "data": {
      "text/plain": [
       "['age',\n",
       " 'sex',\n",
       " 'bmi',\n",
       " 'children',\n",
       " 'smoker',\n",
       " 'Claim_Amount',\n",
       " 'past_consultations',\n",
       " 'num_of_steps',\n",
       " 'Hospital_expenditure',\n",
       " 'NUmber_of_past_hospitalizations',\n",
       " 'Anual_Salary',\n",
       " 'region',\n",
       " 'charges']"
      ]
     },
     "execution_count": 9,
     "metadata": {},
     "output_type": "execute_result"
    }
   ],
   "source": [
    "col\n"
   ]
  },
  {
   "cell_type": "code",
   "execution_count": 10,
   "id": "be6391b5",
   "metadata": {},
   "outputs": [
    {
     "data": {
      "text/plain": [
       "'no'"
      ]
     },
     "execution_count": 10,
     "metadata": {},
     "output_type": "execute_result"
    }
   ],
   "source": [
    "insurance['smoker'].mode()[0]"
   ]
  },
  {
   "cell_type": "code",
   "execution_count": 11,
   "id": "d0e77f0d",
   "metadata": {},
   "outputs": [
    {
     "data": {
      "text/plain": [
       "39.31000752445448"
      ]
     },
     "execution_count": 11,
     "metadata": {},
     "output_type": "execute_result"
    }
   ],
   "source": [
    "insurance['age'].mean()"
   ]
  },
  {
   "cell_type": "code",
   "execution_count": 12,
   "id": "b107a945",
   "metadata": {},
   "outputs": [],
   "source": [
    "#filling null with values\n",
    "for col_name in col:\n",
    "    if insurance[col_name].dtype=='object' :\n",
    "        insurance[col_name]=insurance[col_name].fillna(insurance[col_name].mode()[0])\n",
    "    else :\n",
    "        insurance[col_name]=insurance[col_name].fillna(insurance[col_name].median())"
   ]
  },
  {
   "cell_type": "code",
   "execution_count": 13,
   "id": "0be8ff57",
   "metadata": {},
   "outputs": [
    {
     "data": {
      "text/plain": [
       "age                                0\n",
       "sex                                0\n",
       "bmi                                0\n",
       "children                           0\n",
       "smoker                             0\n",
       "Claim_Amount                       0\n",
       "past_consultations                 0\n",
       "num_of_steps                       0\n",
       "Hospital_expenditure               0\n",
       "NUmber_of_past_hospitalizations    0\n",
       "Anual_Salary                       0\n",
       "region                             0\n",
       "charges                            0\n",
       "dtype: int64"
      ]
     },
     "execution_count": 13,
     "metadata": {},
     "output_type": "execute_result"
    }
   ],
   "source": [
    "insurance.isnull().sum()"
   ]
  },
  {
   "cell_type": "code",
   "execution_count": 14,
   "id": "8ca4eedc",
   "metadata": {},
   "outputs": [
    {
     "data": {
      "text/plain": [
       "(1338, 13)"
      ]
     },
     "execution_count": 14,
     "metadata": {},
     "output_type": "execute_result"
    }
   ],
   "source": [
    "insurance.shape"
   ]
  },
  {
   "cell_type": "markdown",
   "id": "cfba8367",
   "metadata": {},
   "source": [
    "'''\n",
    "*load the data \n",
    "*EDA(SHAPE,info,cleanup,...etc)\n",
    "*feature engineering\n",
    "*feature selection\n",
    "*model building\n",
    "*prediction\n",
    "*model evaluation\n",
    "'''"
   ]
  },
  {
   "cell_type": "code",
   "execution_count": 15,
   "id": "2e1e2344",
   "metadata": {},
   "outputs": [
    {
     "data": {
      "image/png": "[encoded data removed]",
      "text/plain": [
       "<Figure size 640x480 with 1 Axes>"
      ]
     },
     "metadata": {},
     "output_type": "display_data"
    },
    {
     "data": {
      "image/png": "[encoded data removed]",
      "text/plain": [
       "<Figure size 640x480 with 1 Axes>"
      ]
     },
     "metadata": {},
     "output_type": "display_data"
    },
    {
     "data": {
      "image/png": "[encoded data removed]",
      "text/plain": [
       "<Figure size 640x480 with 1 Axes>"
      ]
     },
     "metadata": {},
     "output_type": "display_data"
    },
    {
     "data": {
      "image/png": "[encoded data removed]",
      "text/plain": [
       "<Figure size 640x480 with 1 Axes>"
      ]
     },
     "metadata": {},
     "output_type": "display_data"
    },
    {
     "data": {
      "image/png": "[encoded data removed]",
      "text/plain": [
       "<Figure size 640x480 with 1 Axes>"
      ]
     },
     "metadata": {},
     "output_type": "display_data"
    },
    {
     "data": {
      "image/png": "[encoded data removed]",
      "text/plain": [
       "<Figure size 640x480 with 1 Axes>"
      ]
     },
     "metadata": {},
     "output_type": "display_data"
    },
    {
     "data": {
      "image/png": "[encoded data removed]",
      "text/plain": [
       "<Figure size 640x480 with 1 Axes>"
      ]
     },
     "metadata": {},
     "output_type": "display_data"
    },
    {
     "data": {
      "image/png": "[encoded data removed]",
      "text/plain": [
       "<Figure size 640x480 with 1 Axes>"
      ]
     },
     "metadata": {},
     "output_type": "display_data"
    },
    {
     "data": {
      "image/png": "[encoded data removed]",
      "text/plain": [
       "<Figure size 640x480 with 1 Axes>"
      ]
     },
     "metadata": {},
     "output_type": "display_data"
    },
    {
     "data": {
      "image/png": "[encoded data removed]",
      "text/plain": [
       "<Figure size 640x480 with 1 Axes>"
      ]
     },
     "metadata": {},
     "output_type": "display_data"
    }
   ],
   "source": [
    "for col_name in col:\n",
    "    if (insurance[col_name].dtype=='int' or insurance[col_name].dtypes=='float'):\n",
    "        plt.hist(insurance[col_name])\n",
    "        plt.xlabel([col_name])\n",
    "        plt.ylabel('count')\n",
    "        plt.show()"
   ]
  },
  {
   "cell_type": "code",
   "execution_count": 16,
   "id": "7d8191bf",
   "metadata": {},
   "outputs": [
    {
     "data": {
      "text/html": [
       "<div>\n",
       "<style scoped>\n",
       "    .dataframe tbody tr th:only-of-type {\n",
       "        vertical-align: middle;\n",
       "    }\n",
       "\n",
       "    .dataframe tbody tr th {\n",
       "        vertical-align: top;\n",
       "    }\n",
       "\n",
       "    .dataframe thead th {\n",
       "        text-align: right;\n",
       "    }\n",
       "</style>\n",
       "<table border=\"1\" class=\"dataframe\">\n",
       "  <thead>\n",
       "    <tr style=\"text-align: right;\">\n",
       "      <th></th>\n",
       "      <th>age</th>\n",
       "      <th>bmi</th>\n",
       "      <th>children</th>\n",
       "      <th>Claim_Amount</th>\n",
       "      <th>past_consultations</th>\n",
       "      <th>num_of_steps</th>\n",
       "      <th>Hospital_expenditure</th>\n",
       "      <th>NUmber_of_past_hospitalizations</th>\n",
       "      <th>Anual_Salary</th>\n",
       "      <th>charges</th>\n",
       "    </tr>\n",
       "  </thead>\n",
       "  <tbody>\n",
       "    <tr>\n",
       "      <th>count</th>\n",
       "      <td>1338.000000</td>\n",
       "      <td>1338.000000</td>\n",
       "      <td>1338.000000</td>\n",
       "      <td>1338.000000</td>\n",
       "      <td>1338.000000</td>\n",
       "      <td>1.338000e+03</td>\n",
       "      <td>1.338000e+03</td>\n",
       "      <td>1338.000000</td>\n",
       "      <td>1.338000e+03</td>\n",
       "      <td>1338.000000</td>\n",
       "    </tr>\n",
       "    <tr>\n",
       "      <th>mean</th>\n",
       "      <td>39.307922</td>\n",
       "      <td>30.664518</td>\n",
       "      <td>1.090433</td>\n",
       "      <td>33364.874093</td>\n",
       "      <td>15.215247</td>\n",
       "      <td>9.100143e+05</td>\n",
       "      <td>1.581682e+07</td>\n",
       "      <td>1.060538</td>\n",
       "      <td>3.686636e+08</td>\n",
       "      <td>13270.422265</td>\n",
       "    </tr>\n",
       "    <tr>\n",
       "      <th>std</th>\n",
       "      <td>13.987523</td>\n",
       "      <td>6.094853</td>\n",
       "      <td>1.199619</td>\n",
       "      <td>15535.345575</td>\n",
       "      <td>7.450962</td>\n",
       "      <td>9.178320e+04</td>\n",
       "      <td>2.665699e+07</td>\n",
       "      <td>0.533189</td>\n",
       "      <td>5.658157e+08</td>\n",
       "      <td>12110.011237</td>\n",
       "    </tr>\n",
       "    <tr>\n",
       "      <th>min</th>\n",
       "      <td>18.000000</td>\n",
       "      <td>15.960000</td>\n",
       "      <td>0.000000</td>\n",
       "      <td>1920.136268</td>\n",
       "      <td>1.000000</td>\n",
       "      <td>6.954300e+05</td>\n",
       "      <td>2.945253e+04</td>\n",
       "      <td>0.000000</td>\n",
       "      <td>2.747072e+06</td>\n",
       "      <td>1121.873900</td>\n",
       "    </tr>\n",
       "    <tr>\n",
       "      <th>25%</th>\n",
       "      <td>27.000000</td>\n",
       "      <td>26.315000</td>\n",
       "      <td>0.000000</td>\n",
       "      <td>20947.645198</td>\n",
       "      <td>9.000000</td>\n",
       "      <td>8.474898e+05</td>\n",
       "      <td>4.084941e+06</td>\n",
       "      <td>1.000000</td>\n",
       "      <td>7.755085e+07</td>\n",
       "      <td>4740.287150</td>\n",
       "    </tr>\n",
       "    <tr>\n",
       "      <th>50%</th>\n",
       "      <td>39.000000</td>\n",
       "      <td>30.400000</td>\n",
       "      <td>1.000000</td>\n",
       "      <td>33700.310675</td>\n",
       "      <td>15.000000</td>\n",
       "      <td>9.143000e+05</td>\n",
       "      <td>7.490337e+06</td>\n",
       "      <td>1.000000</td>\n",
       "      <td>1.419361e+08</td>\n",
       "      <td>9382.033000</td>\n",
       "    </tr>\n",
       "    <tr>\n",
       "      <th>75%</th>\n",
       "      <td>51.000000</td>\n",
       "      <td>34.656250</td>\n",
       "      <td>2.000000</td>\n",
       "      <td>44978.873188</td>\n",
       "      <td>20.000000</td>\n",
       "      <td>9.715100e+05</td>\n",
       "      <td>1.082630e+07</td>\n",
       "      <td>1.000000</td>\n",
       "      <td>3.225202e+08</td>\n",
       "      <td>16639.912515</td>\n",
       "    </tr>\n",
       "    <tr>\n",
       "      <th>max</th>\n",
       "      <td>64.000000</td>\n",
       "      <td>53.130000</td>\n",
       "      <td>5.000000</td>\n",
       "      <td>77277.988480</td>\n",
       "      <td>40.000000</td>\n",
       "      <td>1.107872e+06</td>\n",
       "      <td>2.616317e+08</td>\n",
       "      <td>3.000000</td>\n",
       "      <td>4.117197e+09</td>\n",
       "      <td>63770.428010</td>\n",
       "    </tr>\n",
       "  </tbody>\n",
       "</table>\n",
       "</div>"
      ],
      "text/plain": [
       "               age          bmi     children  Claim_Amount  \\\n",
       "count  1338.000000  1338.000000  1338.000000   1338.000000   \n",
       "mean     39.307922    30.664518     1.090433  33364.874093   \n",
       "std      13.987523     6.094853     1.199619  15535.345575   \n",
       "min      18.000000    15.960000     0.000000   1920.136268   \n",
       "25%      27.000000    26.315000     0.000000  20947.645198   \n",
       "50%      39.000000    30.400000     1.000000  33700.310675   \n",
       "75%      51.000000    34.656250     2.000000  44978.873188   \n",
       "max      64.000000    53.130000     5.000000  77277.988480   \n",
       "\n",
       "       past_consultations  num_of_steps  Hospital_expenditure  \\\n",
       "count         1338.000000  1.338000e+03          1.338000e+03   \n",
       "mean            15.215247  9.100143e+05          1.581682e+07   \n",
       "std              7.450962  9.178320e+04          2.665699e+07   \n",
       "min              1.000000  6.954300e+05          2.945253e+04   \n",
       "25%              9.000000  8.474898e+05          4.084941e+06   \n",
       "50%             15.000000  9.143000e+05          7.490337e+06   \n",
       "75%             20.000000  9.715100e+05          1.082630e+07   \n",
       "max             40.000000  1.107872e+06          2.616317e+08   \n",
       "\n",
       "       NUmber_of_past_hospitalizations  Anual_Salary       charges  \n",
       "count                      1338.000000  1.338000e+03   1338.000000  \n",
       "mean                          1.060538  3.686636e+08  13270.422265  \n",
       "std                           0.533189  5.658157e+08  12110.011237  \n",
       "min                           0.000000  2.747072e+06   1121.873900  \n",
       "25%                           1.000000  7.755085e+07   4740.287150  \n",
       "50%                           1.000000  1.419361e+08   9382.033000  \n",
       "75%                           1.000000  3.225202e+08  16639.912515  \n",
       "max                           3.000000  4.117197e+09  63770.428010  "
      ]
     },
     "execution_count": 16,
     "metadata": {},
     "output_type": "execute_result"
    }
   ],
   "source": [
    "insurance.describe()"
   ]
  },
  {
   "cell_type": "code",
   "execution_count": 17,
   "id": "09099940",
   "metadata": {},
   "outputs": [
    {
     "data": {
      "image/png": "[encoded data removed]",
      "text/plain": [
       "<Figure size 640x480 with 1 Axes>"
      ]
     },
     "metadata": {},
     "output_type": "display_data"
    },
    {
     "data": {
      "image/png": "[encoded data removed]",
      "text/plain": [
       "<Figure size 640x480 with 1 Axes>"
      ]
     },
     "metadata": {},
     "output_type": "display_data"
    },
    {
     "data": {
      "image/png": "[encoded data removed]",
      "text/plain": [
       "<Figure size 640x480 with 1 Axes>"
      ]
     },
     "metadata": {},
     "output_type": "display_data"
    },
    {
     "data": {
      "image/png": "[encoded data removed]",
      "text/plain": [
       "<Figure size 640x480 with 1 Axes>"
      ]
     },
     "metadata": {},
     "output_type": "display_data"
    },
    {
     "data": {
      "image/png": "[encoded data removed]",
      "text/plain": [
       "<Figure size 640x480 with 1 Axes>"
      ]
     },
     "metadata": {},
     "output_type": "display_data"
    },
    {
     "data": {
      "image/png": "[encoded data removed]",
      "text/plain": [
       "<Figure size 640x480 with 1 Axes>"
      ]
     },
     "metadata": {},
     "output_type": "display_data"
    },
    {
     "data": {
      "image/png": "[encoded data removed]",
      "text/plain": [
       "<Figure size 640x480 with 1 Axes>"
      ]
     },
     "metadata": {},
     "output_type": "display_data"
    },
    {
     "data": {
      "image/png": "[encoded data removed]",
      "text/plain": [
       "<Figure size 640x480 with 1 Axes>"
      ]
     },
     "metadata": {},
     "output_type": "display_data"
    },
    {
     "data": {
      "image/png": "[encoded data removed]",
      "text/plain": [
       "<Figure size 640x480 with 1 Axes>"
      ]
     },
     "metadata": {},
     "output_type": "display_data"
    },
    {
     "data": {
      "image/png": "[encoded data removed]",
      "text/plain": [
       "<Figure size 640x480 with 1 Axes>"
      ]
     },
     "metadata": {},
     "output_type": "display_data"
    }
   ],
   "source": [
    "for col_name in col:\n",
    "    if (insurance[col_name].dtype=='int' or insurance[col_name].dtypes=='float'):\n",
    "        plt.boxplot(insurance[col_name])\n",
    "        plt.xlabel([col_name])\n",
    "        plt.ylabel('count')\n",
    "        plt.show()"
   ]
  },
  {
   "cell_type": "markdown",
   "id": "7041648c",
   "metadata": {},
   "source": [
    "#Box plot and Violin PLOT easily shows us the outliears in the data"
   ]
  },
  {
   "cell_type": "code",
   "execution_count": 18,
   "id": "5a9a0cc3",
   "metadata": {},
   "outputs": [],
   "source": [
    "#To calculate outliers in data :\n",
    "def outlier(data):\n",
    "    outlier=[]\n",
    "    mean=np.mean(data)\n",
    "    std=np.std(data)\n",
    "    threshold=3.5\n",
    "    for i in data:\n",
    "        z=(i-mean)/std\n",
    "        if np.abs(z)>threshold:\n",
    "            outlier.append(i)\n",
    "    return outlier\n",
    "        "
   ]
  },
  {
   "cell_type": "code",
   "execution_count": 19,
   "id": "536e3941",
   "metadata": {},
   "outputs": [
    {
     "data": {
      "text/plain": [
       "[110173769.6,\n",
       " 111796732.7,\n",
       " 114344017.9,\n",
       " 109928933.7,\n",
       " 109975780.5,\n",
       " 114566438.4,\n",
       " 110586401.9,\n",
       " 110104228.6,\n",
       " 117360056.6,\n",
       " 118519793.9,\n",
       " 115677571.2,\n",
       " 118966096.6,\n",
       " 119144055.3,\n",
       " 117046461.1,\n",
       " 120402998.3,\n",
       " 122180043.2,\n",
       " 122405879.8,\n",
       " 126353660.6,\n",
       " 123627927.0,\n",
       " 144061589.9,\n",
       " 148034634.6,\n",
       " 170380500.5,\n",
       " 201515184.8,\n",
       " 223644981.3,\n",
       " 252892382.6,\n",
       " 261631699.3]"
      ]
     },
     "execution_count": 19,
     "metadata": {},
     "output_type": "execute_result"
    }
   ],
   "source": [
    "outlier(insurance['Hospital_expenditure'])"
   ]
  },
  {
   "cell_type": "code",
   "execution_count": 20,
   "id": "30fb18b3",
   "metadata": {},
   "outputs": [
    {
     "data": {
      "text/html": [
       "<div>\n",
       "<style scoped>\n",
       "    .dataframe tbody tr th:only-of-type {\n",
       "        vertical-align: middle;\n",
       "    }\n",
       "\n",
       "    .dataframe tbody tr th {\n",
       "        vertical-align: top;\n",
       "    }\n",
       "\n",
       "    .dataframe thead th {\n",
       "        text-align: right;\n",
       "    }\n",
       "</style>\n",
       "<table border=\"1\" class=\"dataframe\">\n",
       "  <thead>\n",
       "    <tr style=\"text-align: right;\">\n",
       "      <th></th>\n",
       "      <th>age</th>\n",
       "      <th>bmi</th>\n",
       "      <th>children</th>\n",
       "      <th>Claim_Amount</th>\n",
       "      <th>past_consultations</th>\n",
       "      <th>num_of_steps</th>\n",
       "      <th>Hospital_expenditure</th>\n",
       "      <th>NUmber_of_past_hospitalizations</th>\n",
       "      <th>Anual_Salary</th>\n",
       "      <th>charges</th>\n",
       "    </tr>\n",
       "  </thead>\n",
       "  <tbody>\n",
       "    <tr>\n",
       "      <th>age</th>\n",
       "      <td>1.000000</td>\n",
       "      <td>0.112174</td>\n",
       "      <td>0.041710</td>\n",
       "      <td>0.122873</td>\n",
       "      <td>0.168479</td>\n",
       "      <td>0.513066</td>\n",
       "      <td>0.137208</td>\n",
       "      <td>0.359637</td>\n",
       "      <td>0.163478</td>\n",
       "      <td>0.293735</td>\n",
       "    </tr>\n",
       "    <tr>\n",
       "      <th>bmi</th>\n",
       "      <td>0.112174</td>\n",
       "      <td>1.000000</td>\n",
       "      <td>0.007790</td>\n",
       "      <td>0.093447</td>\n",
       "      <td>0.130701</td>\n",
       "      <td>0.135994</td>\n",
       "      <td>0.256924</td>\n",
       "      <td>0.137115</td>\n",
       "      <td>0.241550</td>\n",
       "      <td>0.198745</td>\n",
       "    </tr>\n",
       "    <tr>\n",
       "      <th>children</th>\n",
       "      <td>0.041710</td>\n",
       "      <td>0.007790</td>\n",
       "      <td>1.000000</td>\n",
       "      <td>0.041607</td>\n",
       "      <td>0.054806</td>\n",
       "      <td>0.163478</td>\n",
       "      <td>0.025315</td>\n",
       "      <td>0.185546</td>\n",
       "      <td>0.041260</td>\n",
       "      <td>0.070877</td>\n",
       "    </tr>\n",
       "    <tr>\n",
       "      <th>Claim_Amount</th>\n",
       "      <td>0.122873</td>\n",
       "      <td>0.093447</td>\n",
       "      <td>0.041607</td>\n",
       "      <td>1.000000</td>\n",
       "      <td>0.271526</td>\n",
       "      <td>0.398285</td>\n",
       "      <td>0.369988</td>\n",
       "      <td>0.379923</td>\n",
       "      <td>0.404026</td>\n",
       "      <td>0.435671</td>\n",
       "    </tr>\n",
       "    <tr>\n",
       "      <th>past_consultations</th>\n",
       "      <td>0.168479</td>\n",
       "      <td>0.130701</td>\n",
       "      <td>0.054806</td>\n",
       "      <td>0.271526</td>\n",
       "      <td>1.000000</td>\n",
       "      <td>0.559692</td>\n",
       "      <td>0.542150</td>\n",
       "      <td>0.500145</td>\n",
       "      <td>0.589292</td>\n",
       "      <td>0.627598</td>\n",
       "    </tr>\n",
       "    <tr>\n",
       "      <th>num_of_steps</th>\n",
       "      <td>0.513066</td>\n",
       "      <td>0.135994</td>\n",
       "      <td>0.163478</td>\n",
       "      <td>0.398285</td>\n",
       "      <td>0.559692</td>\n",
       "      <td>1.000000</td>\n",
       "      <td>0.624790</td>\n",
       "      <td>0.844983</td>\n",
       "      <td>0.733622</td>\n",
       "      <td>0.889753</td>\n",
       "    </tr>\n",
       "    <tr>\n",
       "      <th>Hospital_expenditure</th>\n",
       "      <td>0.137208</td>\n",
       "      <td>0.256924</td>\n",
       "      <td>0.025315</td>\n",
       "      <td>0.369988</td>\n",
       "      <td>0.542150</td>\n",
       "      <td>0.624790</td>\n",
       "      <td>1.000000</td>\n",
       "      <td>0.651827</td>\n",
       "      <td>0.957189</td>\n",
       "      <td>0.871796</td>\n",
       "    </tr>\n",
       "    <tr>\n",
       "      <th>NUmber_of_past_hospitalizations</th>\n",
       "      <td>0.359637</td>\n",
       "      <td>0.137115</td>\n",
       "      <td>0.185546</td>\n",
       "      <td>0.379923</td>\n",
       "      <td>0.500145</td>\n",
       "      <td>0.844983</td>\n",
       "      <td>0.651827</td>\n",
       "      <td>1.000000</td>\n",
       "      <td>0.735802</td>\n",
       "      <td>0.820682</td>\n",
       "    </tr>\n",
       "    <tr>\n",
       "      <th>Anual_Salary</th>\n",
       "      <td>0.163478</td>\n",
       "      <td>0.241550</td>\n",
       "      <td>0.041260</td>\n",
       "      <td>0.404026</td>\n",
       "      <td>0.589292</td>\n",
       "      <td>0.733622</td>\n",
       "      <td>0.957189</td>\n",
       "      <td>0.735802</td>\n",
       "      <td>1.000000</td>\n",
       "      <td>0.946398</td>\n",
       "    </tr>\n",
       "    <tr>\n",
       "      <th>charges</th>\n",
       "      <td>0.293735</td>\n",
       "      <td>0.198745</td>\n",
       "      <td>0.070877</td>\n",
       "      <td>0.435671</td>\n",
       "      <td>0.627598</td>\n",
       "      <td>0.889753</td>\n",
       "      <td>0.871796</td>\n",
       "      <td>0.820682</td>\n",
       "      <td>0.946398</td>\n",
       "      <td>1.000000</td>\n",
       "    </tr>\n",
       "  </tbody>\n",
       "</table>\n",
       "</div>"
      ],
      "text/plain": [
       "                                      age       bmi  children  Claim_Amount  \\\n",
       "age                              1.000000  0.112174  0.041710      0.122873   \n",
       "bmi                              0.112174  1.000000  0.007790      0.093447   \n",
       "children                         0.041710  0.007790  1.000000      0.041607   \n",
       "Claim_Amount                     0.122873  0.093447  0.041607      1.000000   \n",
       "past_consultations               0.168479  0.130701  0.054806      0.271526   \n",
       "num_of_steps                     0.513066  0.135994  0.163478      0.398285   \n",
       "Hospital_expenditure             0.137208  0.256924  0.025315      0.369988   \n",
       "NUmber_of_past_hospitalizations  0.359637  0.137115  0.185546      0.379923   \n",
       "Anual_Salary                     0.163478  0.241550  0.041260      0.404026   \n",
       "charges                          0.293735  0.198745  0.070877      0.435671   \n",
       "\n",
       "                                 past_consultations  num_of_steps  \\\n",
       "age                                        0.168479      0.513066   \n",
       "bmi                                        0.130701      0.135994   \n",
       "children                                   0.054806      0.163478   \n",
       "Claim_Amount                               0.271526      0.398285   \n",
       "past_consultations                         1.000000      0.559692   \n",
       "num_of_steps                               0.559692      1.000000   \n",
       "Hospital_expenditure                       0.542150      0.624790   \n",
       "NUmber_of_past_hospitalizations            0.500145      0.844983   \n",
       "Anual_Salary                               0.589292      0.733622   \n",
       "charges                                    0.627598      0.889753   \n",
       "\n",
       "                                 Hospital_expenditure  \\\n",
       "age                                          0.137208   \n",
       "bmi                                          0.256924   \n",
       "children                                     0.025315   \n",
       "Claim_Amount                                 0.369988   \n",
       "past_consultations                           0.542150   \n",
       "num_of_steps                                 0.624790   \n",
       "Hospital_expenditure                         1.000000   \n",
       "NUmber_of_past_hospitalizations              0.651827   \n",
       "Anual_Salary                                 0.957189   \n",
       "charges                                      0.871796   \n",
       "\n",
       "                                 NUmber_of_past_hospitalizations  \\\n",
       "age                                                     0.359637   \n",
       "bmi                                                     0.137115   \n",
       "children                                                0.185546   \n",
       "Claim_Amount                                            0.379923   \n",
       "past_consultations                                      0.500145   \n",
       "num_of_steps                                            0.844983   \n",
       "Hospital_expenditure                                    0.651827   \n",
       "NUmber_of_past_hospitalizations                         1.000000   \n",
       "Anual_Salary                                            0.735802   \n",
       "charges                                                 0.820682   \n",
       "\n",
       "                                 Anual_Salary   charges  \n",
       "age                                  0.163478  0.293735  \n",
       "bmi                                  0.241550  0.198745  \n",
       "children                             0.041260  0.070877  \n",
       "Claim_Amount                         0.404026  0.435671  \n",
       "past_consultations                   0.589292  0.627598  \n",
       "num_of_steps                         0.733622  0.889753  \n",
       "Hospital_expenditure                 0.957189  0.871796  \n",
       "NUmber_of_past_hospitalizations      0.735802  0.820682  \n",
       "Anual_Salary                         1.000000  0.946398  \n",
       "charges                              0.946398  1.000000  "
      ]
     },
     "execution_count": 20,
     "metadata": {},
     "output_type": "execute_result"
    }
   ],
   "source": [
    "insurance.corr()"
   ]
  },
  {
   "cell_type": "code",
   "execution_count": 21,
   "id": "701eb354",
   "metadata": {},
   "outputs": [],
   "source": [
    "from sklearn.linear_model import LinearRegression"
   ]
  },
  {
   "cell_type": "code",
   "execution_count": 22,
   "id": "43c75915",
   "metadata": {},
   "outputs": [],
   "source": [
    "from sklearn.model_selection import train_test_split"
   ]
  },
  {
   "cell_type": "markdown",
   "id": "feae86fe",
   "metadata": {},
   "source": [
    "Variation Infaltion Factor(VIF) removes multi-correlation between columns and gives independent variables"
   ]
  },
  {
   "cell_type": "code",
   "execution_count": 23,
   "id": "91b95266",
   "metadata": {},
   "outputs": [],
   "source": [
    "from statsmodels.stats.outliers_influence import variance_inflation_factor"
   ]
  },
  {
   "cell_type": "code",
   "execution_count": 30,
   "id": "acb3c29d",
   "metadata": {},
   "outputs": [],
   "source": [
    "col_list=[]\n",
    "for col in insurance.columns:\n",
    "    if ((insurance[col].dtypes!='object') & (col!='charges')):\n",
    "        col_list.append(col)"
   ]
  },
  {
   "cell_type": "code",
   "execution_count": 31,
   "id": "076effc5",
   "metadata": {},
   "outputs": [
    {
     "data": {
      "text/plain": [
       "['age',\n",
       " 'bmi',\n",
       " 'children',\n",
       " 'Claim_Amount',\n",
       " 'past_consultations',\n",
       " 'num_of_steps',\n",
       " 'Hospital_expenditure',\n",
       " 'NUmber_of_past_hospitalizations',\n",
       " 'Anual_Salary']"
      ]
     },
     "execution_count": 31,
     "metadata": {},
     "output_type": "execute_result"
    }
   ],
   "source": [
    "col_list\n"
   ]
  },
  {
   "cell_type": "code",
   "execution_count": 32,
   "id": "a23e957c",
   "metadata": {},
   "outputs": [],
   "source": [
    "X=insurance[col_list]"
   ]
  },
  {
   "cell_type": "code",
   "execution_count": 33,
   "id": "19ce1106",
   "metadata": {},
   "outputs": [
    {
     "data": {
      "text/html": [
       "<div>\n",
       "<style scoped>\n",
       "    .dataframe tbody tr th:only-of-type {\n",
       "        vertical-align: middle;\n",
       "    }\n",
       "\n",
       "    .dataframe tbody tr th {\n",
       "        vertical-align: top;\n",
       "    }\n",
       "\n",
       "    .dataframe thead th {\n",
       "        text-align: right;\n",
       "    }\n",
       "</style>\n",
       "<table border=\"1\" class=\"dataframe\">\n",
       "  <thead>\n",
       "    <tr style=\"text-align: right;\">\n",
       "      <th></th>\n",
       "      <th>age</th>\n",
       "      <th>bmi</th>\n",
       "      <th>children</th>\n",
       "      <th>Claim_Amount</th>\n",
       "      <th>past_consultations</th>\n",
       "      <th>num_of_steps</th>\n",
       "      <th>Hospital_expenditure</th>\n",
       "      <th>NUmber_of_past_hospitalizations</th>\n",
       "      <th>Anual_Salary</th>\n",
       "    </tr>\n",
       "  </thead>\n",
       "  <tbody>\n",
       "    <tr>\n",
       "      <th>0</th>\n",
       "      <td>18.0</td>\n",
       "      <td>23.210</td>\n",
       "      <td>0.0</td>\n",
       "      <td>29087.54313</td>\n",
       "      <td>17.0</td>\n",
       "      <td>715428.0</td>\n",
       "      <td>4.720921e+06</td>\n",
       "      <td>0.0</td>\n",
       "      <td>5.578497e+07</td>\n",
       "    </tr>\n",
       "    <tr>\n",
       "      <th>1</th>\n",
       "      <td>18.0</td>\n",
       "      <td>30.140</td>\n",
       "      <td>0.0</td>\n",
       "      <td>39053.67437</td>\n",
       "      <td>7.0</td>\n",
       "      <td>699157.0</td>\n",
       "      <td>4.329832e+06</td>\n",
       "      <td>0.0</td>\n",
       "      <td>1.370089e+07</td>\n",
       "    </tr>\n",
       "    <tr>\n",
       "      <th>2</th>\n",
       "      <td>18.0</td>\n",
       "      <td>33.330</td>\n",
       "      <td>0.0</td>\n",
       "      <td>39023.62759</td>\n",
       "      <td>19.0</td>\n",
       "      <td>702341.0</td>\n",
       "      <td>6.884861e+06</td>\n",
       "      <td>0.0</td>\n",
       "      <td>7.352311e+07</td>\n",
       "    </tr>\n",
       "    <tr>\n",
       "      <th>3</th>\n",
       "      <td>18.0</td>\n",
       "      <td>33.660</td>\n",
       "      <td>0.0</td>\n",
       "      <td>28185.39332</td>\n",
       "      <td>11.0</td>\n",
       "      <td>700250.0</td>\n",
       "      <td>4.274774e+06</td>\n",
       "      <td>0.0</td>\n",
       "      <td>7.581968e+07</td>\n",
       "    </tr>\n",
       "    <tr>\n",
       "      <th>4</th>\n",
       "      <td>18.0</td>\n",
       "      <td>34.100</td>\n",
       "      <td>0.0</td>\n",
       "      <td>14697.85941</td>\n",
       "      <td>16.0</td>\n",
       "      <td>711584.0</td>\n",
       "      <td>3.787294e+06</td>\n",
       "      <td>0.0</td>\n",
       "      <td>2.301232e+07</td>\n",
       "    </tr>\n",
       "    <tr>\n",
       "      <th>...</th>\n",
       "      <td>...</td>\n",
       "      <td>...</td>\n",
       "      <td>...</td>\n",
       "      <td>...</td>\n",
       "      <td>...</td>\n",
       "      <td>...</td>\n",
       "      <td>...</td>\n",
       "      <td>...</td>\n",
       "      <td>...</td>\n",
       "    </tr>\n",
       "    <tr>\n",
       "      <th>1333</th>\n",
       "      <td>33.0</td>\n",
       "      <td>35.530</td>\n",
       "      <td>0.0</td>\n",
       "      <td>63142.25346</td>\n",
       "      <td>32.0</td>\n",
       "      <td>1091267.0</td>\n",
       "      <td>1.703805e+08</td>\n",
       "      <td>2.0</td>\n",
       "      <td>3.101107e+09</td>\n",
       "    </tr>\n",
       "    <tr>\n",
       "      <th>1334</th>\n",
       "      <td>31.0</td>\n",
       "      <td>38.095</td>\n",
       "      <td>1.0</td>\n",
       "      <td>43419.95227</td>\n",
       "      <td>31.0</td>\n",
       "      <td>1107872.0</td>\n",
       "      <td>2.015152e+08</td>\n",
       "      <td>2.0</td>\n",
       "      <td>3.484216e+09</td>\n",
       "    </tr>\n",
       "    <tr>\n",
       "      <th>1335</th>\n",
       "      <td>52.0</td>\n",
       "      <td>34.485</td>\n",
       "      <td>3.0</td>\n",
       "      <td>52458.92353</td>\n",
       "      <td>25.0</td>\n",
       "      <td>1092005.0</td>\n",
       "      <td>2.236450e+08</td>\n",
       "      <td>2.0</td>\n",
       "      <td>3.640807e+09</td>\n",
       "    </tr>\n",
       "    <tr>\n",
       "      <th>1336</th>\n",
       "      <td>45.0</td>\n",
       "      <td>30.360</td>\n",
       "      <td>0.0</td>\n",
       "      <td>69927.51664</td>\n",
       "      <td>34.0</td>\n",
       "      <td>1106821.0</td>\n",
       "      <td>2.528924e+08</td>\n",
       "      <td>3.0</td>\n",
       "      <td>4.006359e+09</td>\n",
       "    </tr>\n",
       "    <tr>\n",
       "      <th>1337</th>\n",
       "      <td>54.0</td>\n",
       "      <td>47.410</td>\n",
       "      <td>0.0</td>\n",
       "      <td>63982.80926</td>\n",
       "      <td>31.0</td>\n",
       "      <td>1100328.0</td>\n",
       "      <td>2.616317e+08</td>\n",
       "      <td>3.0</td>\n",
       "      <td>4.117197e+09</td>\n",
       "    </tr>\n",
       "  </tbody>\n",
       "</table>\n",
       "<p>1338 rows × 9 columns</p>\n",
       "</div>"
      ],
      "text/plain": [
       "       age     bmi  children  Claim_Amount  past_consultations  num_of_steps  \\\n",
       "0     18.0  23.210       0.0   29087.54313                17.0      715428.0   \n",
       "1     18.0  30.140       0.0   39053.67437                 7.0      699157.0   \n",
       "2     18.0  33.330       0.0   39023.62759                19.0      702341.0   \n",
       "3     18.0  33.660       0.0   28185.39332                11.0      700250.0   \n",
       "4     18.0  34.100       0.0   14697.85941                16.0      711584.0   \n",
       "...    ...     ...       ...           ...                 ...           ...   \n",
       "1333  33.0  35.530       0.0   63142.25346                32.0     1091267.0   \n",
       "1334  31.0  38.095       1.0   43419.95227                31.0     1107872.0   \n",
       "1335  52.0  34.485       3.0   52458.92353                25.0     1092005.0   \n",
       "1336  45.0  30.360       0.0   69927.51664                34.0     1106821.0   \n",
       "1337  54.0  47.410       0.0   63982.80926                31.0     1100328.0   \n",
       "\n",
       "      Hospital_expenditure  NUmber_of_past_hospitalizations  Anual_Salary  \n",
       "0             4.720921e+06                              0.0  5.578497e+07  \n",
       "1             4.329832e+06                              0.0  1.370089e+07  \n",
       "2             6.884861e+06                              0.0  7.352311e+07  \n",
       "3             4.274774e+06                              0.0  7.581968e+07  \n",
       "4             3.787294e+06                              0.0  2.301232e+07  \n",
       "...                    ...                              ...           ...  \n",
       "1333          1.703805e+08                              2.0  3.101107e+09  \n",
       "1334          2.015152e+08                              2.0  3.484216e+09  \n",
       "1335          2.236450e+08                              2.0  3.640807e+09  \n",
       "1336          2.528924e+08                              3.0  4.006359e+09  \n",
       "1337          2.616317e+08                              3.0  4.117197e+09  \n",
       "\n",
       "[1338 rows x 9 columns]"
      ]
     },
     "execution_count": 33,
     "metadata": {},
     "output_type": "execute_result"
    }
   ],
   "source": [
    "X"
   ]
  },
  {
   "cell_type": "code",
   "execution_count": 34,
   "id": "6e0f7ee6",
   "metadata": {},
   "outputs": [
    {
     "data": {
      "text/plain": [
       "array([[1.80000000e+01, 2.32100000e+01, 0.00000000e+00, ...,\n",
       "        4.72092099e+06, 0.00000000e+00, 5.57849700e+07],\n",
       "       [1.80000000e+01, 3.01400000e+01, 0.00000000e+00, ...,\n",
       "        4.32983168e+06, 0.00000000e+00, 1.37008852e+07],\n",
       "       [1.80000000e+01, 3.33300000e+01, 0.00000000e+00, ...,\n",
       "        6.88486077e+06, 0.00000000e+00, 7.35231073e+07],\n",
       "       ...,\n",
       "       [5.20000000e+01, 3.44850000e+01, 3.00000000e+00, ...,\n",
       "        2.23644981e+08, 2.00000000e+00, 3.64080668e+09],\n",
       "       [4.50000000e+01, 3.03600000e+01, 0.00000000e+00, ...,\n",
       "        2.52892383e+08, 3.00000000e+00, 4.00635850e+09],\n",
       "       [5.40000000e+01, 4.74100000e+01, 0.00000000e+00, ...,\n",
       "        2.61631699e+08, 3.00000000e+00, 4.11719664e+09]])"
      ]
     },
     "execution_count": 34,
     "metadata": {},
     "output_type": "execute_result"
    }
   ],
   "source": [
    "X.values\n"
   ]
  },
  {
   "cell_type": "code",
   "execution_count": 39,
   "id": "b3f8013c",
   "metadata": {},
   "outputs": [
    {
     "name": "stdout",
     "output_type": "stream",
     "text": [
      "                           feature        vif\n",
      "0                              age  10.151158\n",
      "1                              bmi  11.688356\n",
      "2                         children   1.931368\n",
      "3                     Claim_Amount   6.375028\n",
      "4               past_consultations   7.536986\n",
      "5             Hospital_expenditure  17.571109\n",
      "6  NUmber_of_past_hospitalizations  13.750606\n",
      "7                     Anual_Salary  23.592163\n"
     ]
    }
   ],
   "source": [
    "def VIF(insurance):\n",
    "    col_list=[]\n",
    "    for col in insurance.columns:\n",
    "        if ((insurance[col].dtypes!='object') & (col!='charges')):\n",
    "            col_list.append(col)\n",
    "    X=insurance[col_list]\n",
    "    vif_data=pd.DataFrame()\n",
    "    vif_data['feature']=X.columns\n",
    "    vif_data['vif']=[variance_inflation_factor(X.values,i)for i in range(len(X.columns))]\n",
    "    print(vif_data)\n",
    "VIF(insurance)"
   ]
  },
  {
   "cell_type": "code",
   "execution_count": 37,
   "id": "71b829e7",
   "metadata": {},
   "outputs": [],
   "source": [
    "insurance=insurance.drop(['num_of_steps'],axis=1)"
   ]
  },
  {
   "cell_type": "code",
   "execution_count": 40,
   "id": "51ac111c",
   "metadata": {},
   "outputs": [],
   "source": [
    "insurance=insurance.drop(['Anual_Salary'],axis=1)"
   ]
  },
  {
   "cell_type": "code",
   "execution_count": 41,
   "id": "99c8eb7d",
   "metadata": {},
   "outputs": [
    {
     "name": "stdout",
     "output_type": "stream",
     "text": [
      "                           feature        vif\n",
      "0                              age   9.909001\n",
      "1                              bmi  11.145846\n",
      "2                         children   1.917639\n",
      "3                     Claim_Amount   6.362642\n",
      "4               past_consultations   7.338140\n",
      "5             Hospital_expenditure   2.546587\n",
      "6  NUmber_of_past_hospitalizations  11.048809\n"
     ]
    }
   ],
   "source": [
    "VIF(insurance)"
   ]
  },
  {
   "cell_type": "code",
   "execution_count": 42,
   "id": "a7fe91cf",
   "metadata": {},
   "outputs": [],
   "source": [
    "insurance=insurance.drop(['bmi'],axis=1)"
   ]
  },
  {
   "cell_type": "code",
   "execution_count": 43,
   "id": "0cccc438",
   "metadata": {},
   "outputs": [
    {
     "name": "stdout",
     "output_type": "stream",
     "text": [
      "                           feature        vif\n",
      "0                              age   7.508435\n",
      "1                         children   1.890687\n",
      "2                     Claim_Amount   5.660365\n",
      "3               past_consultations   6.708699\n",
      "4             Hospital_expenditure   2.515995\n",
      "5  NUmber_of_past_hospitalizations  11.029632\n"
     ]
    }
   ],
   "source": [
    "VIF(insurance)"
   ]
  },
  {
   "cell_type": "code",
   "execution_count": 44,
   "id": "31a3d928",
   "metadata": {},
   "outputs": [],
   "source": [
    "insurance=insurance.drop(['NUmber_of_past_hospitalizations'],axis=1)"
   ]
  },
  {
   "cell_type": "code",
   "execution_count": 45,
   "id": "c3539bac",
   "metadata": {},
   "outputs": [
    {
     "name": "stdout",
     "output_type": "stream",
     "text": [
      "                feature       vif\n",
      "0                   age  5.809884\n",
      "1              children  1.783669\n",
      "2          Claim_Amount  5.349778\n",
      "3    past_consultations  6.290878\n",
      "4  Hospital_expenditure  1.886956\n"
     ]
    }
   ],
   "source": [
    "VIF(insurance)"
   ]
  },
  {
   "cell_type": "code",
   "execution_count": 46,
   "id": "d2f3bff4",
   "metadata": {},
   "outputs": [],
   "source": [
    "insurance=insurance.drop(['past_consultations'],axis=1)"
   ]
  },
  {
   "cell_type": "code",
   "execution_count": 47,
   "id": "6567115e",
   "metadata": {},
   "outputs": [
    {
     "name": "stdout",
     "output_type": "stream",
     "text": [
      "                feature       vif\n",
      "0                   age  4.471810\n",
      "1              children  1.757327\n",
      "2          Claim_Amount  4.838302\n",
      "3  Hospital_expenditure  1.554467\n"
     ]
    }
   ],
   "source": [
    "VIF(insurance)"
   ]
  },
  {
   "cell_type": "code",
   "execution_count": 48,
   "id": "5eda4744",
   "metadata": {},
   "outputs": [
    {
     "data": {
      "text/html": [
       "<div>\n",
       "<style scoped>\n",
       "    .dataframe tbody tr th:only-of-type {\n",
       "        vertical-align: middle;\n",
       "    }\n",
       "\n",
       "    .dataframe tbody tr th {\n",
       "        vertical-align: top;\n",
       "    }\n",
       "\n",
       "    .dataframe thead th {\n",
       "        text-align: right;\n",
       "    }\n",
       "</style>\n",
       "<table border=\"1\" class=\"dataframe\">\n",
       "  <thead>\n",
       "    <tr style=\"text-align: right;\">\n",
       "      <th></th>\n",
       "      <th>age</th>\n",
       "      <th>children</th>\n",
       "      <th>Claim_Amount</th>\n",
       "      <th>Hospital_expenditure</th>\n",
       "    </tr>\n",
       "  </thead>\n",
       "  <tbody>\n",
       "    <tr>\n",
       "      <th>0</th>\n",
       "      <td>18.0</td>\n",
       "      <td>0.0</td>\n",
       "      <td>29087.54313</td>\n",
       "      <td>4.720921e+06</td>\n",
       "    </tr>\n",
       "    <tr>\n",
       "      <th>1</th>\n",
       "      <td>18.0</td>\n",
       "      <td>0.0</td>\n",
       "      <td>39053.67437</td>\n",
       "      <td>4.329832e+06</td>\n",
       "    </tr>\n",
       "    <tr>\n",
       "      <th>2</th>\n",
       "      <td>18.0</td>\n",
       "      <td>0.0</td>\n",
       "      <td>39023.62759</td>\n",
       "      <td>6.884861e+06</td>\n",
       "    </tr>\n",
       "    <tr>\n",
       "      <th>3</th>\n",
       "      <td>18.0</td>\n",
       "      <td>0.0</td>\n",
       "      <td>28185.39332</td>\n",
       "      <td>4.274774e+06</td>\n",
       "    </tr>\n",
       "    <tr>\n",
       "      <th>4</th>\n",
       "      <td>18.0</td>\n",
       "      <td>0.0</td>\n",
       "      <td>14697.85941</td>\n",
       "      <td>3.787294e+06</td>\n",
       "    </tr>\n",
       "    <tr>\n",
       "      <th>...</th>\n",
       "      <td>...</td>\n",
       "      <td>...</td>\n",
       "      <td>...</td>\n",
       "      <td>...</td>\n",
       "    </tr>\n",
       "    <tr>\n",
       "      <th>1333</th>\n",
       "      <td>33.0</td>\n",
       "      <td>0.0</td>\n",
       "      <td>63142.25346</td>\n",
       "      <td>1.703805e+08</td>\n",
       "    </tr>\n",
       "    <tr>\n",
       "      <th>1334</th>\n",
       "      <td>31.0</td>\n",
       "      <td>1.0</td>\n",
       "      <td>43419.95227</td>\n",
       "      <td>2.015152e+08</td>\n",
       "    </tr>\n",
       "    <tr>\n",
       "      <th>1335</th>\n",
       "      <td>52.0</td>\n",
       "      <td>3.0</td>\n",
       "      <td>52458.92353</td>\n",
       "      <td>2.236450e+08</td>\n",
       "    </tr>\n",
       "    <tr>\n",
       "      <th>1336</th>\n",
       "      <td>45.0</td>\n",
       "      <td>0.0</td>\n",
       "      <td>69927.51664</td>\n",
       "      <td>2.528924e+08</td>\n",
       "    </tr>\n",
       "    <tr>\n",
       "      <th>1337</th>\n",
       "      <td>54.0</td>\n",
       "      <td>0.0</td>\n",
       "      <td>63982.80926</td>\n",
       "      <td>2.616317e+08</td>\n",
       "    </tr>\n",
       "  </tbody>\n",
       "</table>\n",
       "<p>1338 rows × 4 columns</p>\n",
       "</div>"
      ],
      "text/plain": [
       "       age  children  Claim_Amount  Hospital_expenditure\n",
       "0     18.0       0.0   29087.54313          4.720921e+06\n",
       "1     18.0       0.0   39053.67437          4.329832e+06\n",
       "2     18.0       0.0   39023.62759          6.884861e+06\n",
       "3     18.0       0.0   28185.39332          4.274774e+06\n",
       "4     18.0       0.0   14697.85941          3.787294e+06\n",
       "...    ...       ...           ...                   ...\n",
       "1333  33.0       0.0   63142.25346          1.703805e+08\n",
       "1334  31.0       1.0   43419.95227          2.015152e+08\n",
       "1335  52.0       3.0   52458.92353          2.236450e+08\n",
       "1336  45.0       0.0   69927.51664          2.528924e+08\n",
       "1337  54.0       0.0   63982.80926          2.616317e+08\n",
       "\n",
       "[1338 rows x 4 columns]"
      ]
     },
     "execution_count": 48,
     "metadata": {},
     "output_type": "execute_result"
    }
   ],
   "source": [
    "x=insurance.loc[:,['age','children','Claim_Amount','Hospital_expenditure']]\n",
    "y=insurance['charges']\n",
    "x"
   ]
  },
  {
   "cell_type": "code",
   "execution_count": 49,
   "id": "fbbfb4b5",
   "metadata": {},
   "outputs": [
    {
     "data": {
      "text/plain": [
       "0        1121.87390\n",
       "1        1131.50660\n",
       "2        1135.94070\n",
       "3        1136.39940\n",
       "4        1137.01100\n",
       "           ...     \n",
       "1333    55135.40209\n",
       "1334    58571.07448\n",
       "1335    60021.39897\n",
       "1336    62592.87309\n",
       "1337    63770.42801\n",
       "Name: charges, Length: 1338, dtype: float64"
      ]
     },
     "execution_count": 49,
     "metadata": {},
     "output_type": "execute_result"
    }
   ],
   "source": [
    "y"
   ]
  },
  {
   "cell_type": "code",
   "execution_count": 62,
   "id": "bce25fe3",
   "metadata": {},
   "outputs": [],
   "source": [
    "x_train,x_test,y_train,y_test=train_test_split(x,y,train_size=0.8,random_state=42)\n",
    "#random_state=0 means that it fixes the internal random generator used for sampling the data for training and testing purposes\n",
    "#If it is fixed the accuracy of the model will remain same "
   ]
  },
  {
   "cell_type": "code",
   "execution_count": 63,
   "id": "259b6a6e",
   "metadata": {},
   "outputs": [
    {
     "data": {
      "text/html": [
       "<div>\n",
       "<style scoped>\n",
       "    .dataframe tbody tr th:only-of-type {\n",
       "        vertical-align: middle;\n",
       "    }\n",
       "\n",
       "    .dataframe tbody tr th {\n",
       "        vertical-align: top;\n",
       "    }\n",
       "\n",
       "    .dataframe thead th {\n",
       "        text-align: right;\n",
       "    }\n",
       "</style>\n",
       "<table border=\"1\" class=\"dataframe\">\n",
       "  <thead>\n",
       "    <tr style=\"text-align: right;\">\n",
       "      <th></th>\n",
       "      <th>age</th>\n",
       "      <th>children</th>\n",
       "      <th>Claim_Amount</th>\n",
       "      <th>Hospital_expenditure</th>\n",
       "    </tr>\n",
       "  </thead>\n",
       "  <tbody>\n",
       "    <tr>\n",
       "      <th>560</th>\n",
       "      <td>45.0</td>\n",
       "      <td>0.0</td>\n",
       "      <td>29622.26103</td>\n",
       "      <td>7.579867e+06</td>\n",
       "    </tr>\n",
       "    <tr>\n",
       "      <th>1285</th>\n",
       "      <td>44.0</td>\n",
       "      <td>0.0</td>\n",
       "      <td>66824.70947</td>\n",
       "      <td>8.042196e+07</td>\n",
       "    </tr>\n",
       "    <tr>\n",
       "      <th>1142</th>\n",
       "      <td>50.0</td>\n",
       "      <td>0.0</td>\n",
       "      <td>36320.75384</td>\n",
       "      <td>1.772151e+07</td>\n",
       "    </tr>\n",
       "    <tr>\n",
       "      <th>969</th>\n",
       "      <td>63.0</td>\n",
       "      <td>0.0</td>\n",
       "      <td>24827.43078</td>\n",
       "      <td>1.214312e+07</td>\n",
       "    </tr>\n",
       "    <tr>\n",
       "      <th>486</th>\n",
       "      <td>34.0</td>\n",
       "      <td>3.0</td>\n",
       "      <td>47348.03370</td>\n",
       "      <td>6.034962e+06</td>\n",
       "    </tr>\n",
       "    <tr>\n",
       "      <th>...</th>\n",
       "      <td>...</td>\n",
       "      <td>...</td>\n",
       "      <td>...</td>\n",
       "      <td>...</td>\n",
       "    </tr>\n",
       "    <tr>\n",
       "      <th>1095</th>\n",
       "      <td>59.0</td>\n",
       "      <td>0.0</td>\n",
       "      <td>47554.34106</td>\n",
       "      <td>1.132722e+07</td>\n",
       "    </tr>\n",
       "    <tr>\n",
       "      <th>1130</th>\n",
       "      <td>46.0</td>\n",
       "      <td>0.0</td>\n",
       "      <td>63672.07916</td>\n",
       "      <td>2.295519e+07</td>\n",
       "    </tr>\n",
       "    <tr>\n",
       "      <th>1294</th>\n",
       "      <td>54.0</td>\n",
       "      <td>2.0</td>\n",
       "      <td>42578.49702</td>\n",
       "      <td>9.188836e+07</td>\n",
       "    </tr>\n",
       "    <tr>\n",
       "      <th>860</th>\n",
       "      <td>58.0</td>\n",
       "      <td>0.0</td>\n",
       "      <td>27369.02461</td>\n",
       "      <td>3.634140e+06</td>\n",
       "    </tr>\n",
       "    <tr>\n",
       "      <th>1126</th>\n",
       "      <td>54.0</td>\n",
       "      <td>0.0</td>\n",
       "      <td>37385.45533</td>\n",
       "      <td>1.579127e+07</td>\n",
       "    </tr>\n",
       "  </tbody>\n",
       "</table>\n",
       "<p>1070 rows × 4 columns</p>\n",
       "</div>"
      ],
      "text/plain": [
       "       age  children  Claim_Amount  Hospital_expenditure\n",
       "560   45.0       0.0   29622.26103          7.579867e+06\n",
       "1285  44.0       0.0   66824.70947          8.042196e+07\n",
       "1142  50.0       0.0   36320.75384          1.772151e+07\n",
       "969   63.0       0.0   24827.43078          1.214312e+07\n",
       "486   34.0       3.0   47348.03370          6.034962e+06\n",
       "...    ...       ...           ...                   ...\n",
       "1095  59.0       0.0   47554.34106          1.132722e+07\n",
       "1130  46.0       0.0   63672.07916          2.295519e+07\n",
       "1294  54.0       2.0   42578.49702          9.188836e+07\n",
       "860   58.0       0.0   27369.02461          3.634140e+06\n",
       "1126  54.0       0.0   37385.45533          1.579127e+07\n",
       "\n",
       "[1070 rows x 4 columns]"
      ]
     },
     "execution_count": 63,
     "metadata": {},
     "output_type": "execute_result"
    }
   ],
   "source": [
    "x_train"
   ]
  },
  {
   "cell_type": "code",
   "execution_count": 64,
   "id": "47109014",
   "metadata": {},
   "outputs": [
    {
     "data": {
      "text/plain": [
       "560      7731.85785\n",
       "1285    42983.45850\n",
       "1142    25656.57526\n",
       "969     14449.85440\n",
       "486      6753.03800\n",
       "           ...     \n",
       "1095    21797.00040\n",
       "1130    24603.04837\n",
       "1294    44260.74990\n",
       "860     12235.83920\n",
       "1126    24476.47851\n",
       "Name: charges, Length: 1070, dtype: float64"
      ]
     },
     "execution_count": 64,
     "metadata": {},
     "output_type": "execute_result"
    }
   ],
   "source": [
    "y_train"
   ]
  },
  {
   "cell_type": "code",
   "execution_count": 65,
   "id": "ff8c0c7d",
   "metadata": {},
   "outputs": [
    {
     "data": {
      "text/html": [
       "<div>\n",
       "<style scoped>\n",
       "    .dataframe tbody tr th:only-of-type {\n",
       "        vertical-align: middle;\n",
       "    }\n",
       "\n",
       "    .dataframe tbody tr th {\n",
       "        vertical-align: top;\n",
       "    }\n",
       "\n",
       "    .dataframe thead th {\n",
       "        text-align: right;\n",
       "    }\n",
       "</style>\n",
       "<table border=\"1\" class=\"dataframe\">\n",
       "  <thead>\n",
       "    <tr style=\"text-align: right;\">\n",
       "      <th></th>\n",
       "      <th>age</th>\n",
       "      <th>children</th>\n",
       "      <th>Claim_Amount</th>\n",
       "      <th>Hospital_expenditure</th>\n",
       "    </tr>\n",
       "  </thead>\n",
       "  <tbody>\n",
       "    <tr>\n",
       "      <th>764</th>\n",
       "      <td>54.0</td>\n",
       "      <td>1.0</td>\n",
       "      <td>41178.474530</td>\n",
       "      <td>6.906061e+06</td>\n",
       "    </tr>\n",
       "    <tr>\n",
       "      <th>887</th>\n",
       "      <td>60.0</td>\n",
       "      <td>0.0</td>\n",
       "      <td>55587.429360</td>\n",
       "      <td>1.062849e+07</td>\n",
       "    </tr>\n",
       "    <tr>\n",
       "      <th>890</th>\n",
       "      <td>44.0</td>\n",
       "      <td>0.0</td>\n",
       "      <td>8819.797107</td>\n",
       "      <td>6.113974e+06</td>\n",
       "    </tr>\n",
       "    <tr>\n",
       "      <th>1293</th>\n",
       "      <td>47.0</td>\n",
       "      <td>2.0</td>\n",
       "      <td>46520.247900</td>\n",
       "      <td>9.420315e+07</td>\n",
       "    </tr>\n",
       "    <tr>\n",
       "      <th>259</th>\n",
       "      <td>22.0</td>\n",
       "      <td>2.0</td>\n",
       "      <td>48614.570180</td>\n",
       "      <td>8.850428e+06</td>\n",
       "    </tr>\n",
       "    <tr>\n",
       "      <th>...</th>\n",
       "      <td>...</td>\n",
       "      <td>...</td>\n",
       "      <td>...</td>\n",
       "      <td>...</td>\n",
       "    </tr>\n",
       "    <tr>\n",
       "      <th>109</th>\n",
       "      <td>22.0</td>\n",
       "      <td>0.0</td>\n",
       "      <td>33257.707940</td>\n",
       "      <td>4.589846e+06</td>\n",
       "    </tr>\n",
       "    <tr>\n",
       "      <th>575</th>\n",
       "      <td>47.0</td>\n",
       "      <td>1.0</td>\n",
       "      <td>42904.689350</td>\n",
       "      <td>5.825061e+06</td>\n",
       "    </tr>\n",
       "    <tr>\n",
       "      <th>535</th>\n",
       "      <td>41.0</td>\n",
       "      <td>2.0</td>\n",
       "      <td>51973.371980</td>\n",
       "      <td>8.454802e+06</td>\n",
       "    </tr>\n",
       "    <tr>\n",
       "      <th>543</th>\n",
       "      <td>45.0</td>\n",
       "      <td>0.0</td>\n",
       "      <td>9922.222111</td>\n",
       "      <td>5.802739e+06</td>\n",
       "    </tr>\n",
       "    <tr>\n",
       "      <th>846</th>\n",
       "      <td>57.0</td>\n",
       "      <td>0.0</td>\n",
       "      <td>27388.677040</td>\n",
       "      <td>7.295768e+06</td>\n",
       "    </tr>\n",
       "  </tbody>\n",
       "</table>\n",
       "<p>268 rows × 4 columns</p>\n",
       "</div>"
      ],
      "text/plain": [
       "       age  children  Claim_Amount  Hospital_expenditure\n",
       "764   54.0       1.0  41178.474530          6.906061e+06\n",
       "887   60.0       0.0  55587.429360          1.062849e+07\n",
       "890   44.0       0.0   8819.797107          6.113974e+06\n",
       "1293  47.0       2.0  46520.247900          9.420315e+07\n",
       "259   22.0       2.0  48614.570180          8.850428e+06\n",
       "...    ...       ...           ...                   ...\n",
       "109   22.0       0.0  33257.707940          4.589846e+06\n",
       "575   47.0       1.0  42904.689350          5.825061e+06\n",
       "535   41.0       2.0  51973.371980          8.454802e+06\n",
       "543   45.0       0.0   9922.222111          5.802739e+06\n",
       "846   57.0       0.0  27388.677040          7.295768e+06\n",
       "\n",
       "[268 rows x 4 columns]"
      ]
     },
     "execution_count": 65,
     "metadata": {},
     "output_type": "execute_result"
    }
   ],
   "source": [
    "x_test"
   ]
  },
  {
   "cell_type": "code",
   "execution_count": 66,
   "id": "12dae398",
   "metadata": {},
   "outputs": [
    {
     "data": {
      "text/plain": [
       "764     10928.84900\n",
       "887     12648.70340\n",
       "890     12797.20962\n",
       "1293    44202.65360\n",
       "259      3925.75820\n",
       "           ...     \n",
       "109      2154.36100\n",
       "575      8062.76400\n",
       "535      7371.77200\n",
       "543      7448.40395\n",
       "846     12029.28670\n",
       "Name: charges, Length: 268, dtype: float64"
      ]
     },
     "execution_count": 66,
     "metadata": {},
     "output_type": "execute_result"
    }
   ],
   "source": [
    "y_test"
   ]
  },
  {
   "cell_type": "code",
   "execution_count": 67,
   "id": "c921c3a5",
   "metadata": {},
   "outputs": [],
   "source": [
    "l_model=LinearRegression()"
   ]
  },
  {
   "cell_type": "code",
   "execution_count": 68,
   "id": "1ce5e818",
   "metadata": {},
   "outputs": [
    {
     "data": {
      "text/plain": [
       "LinearRegression()"
      ]
     },
     "execution_count": 68,
     "metadata": {},
     "output_type": "execute_result"
    }
   ],
   "source": [
    "l_model.fit(x_train,y_train)"
   ]
  },
  {
   "cell_type": "code",
   "execution_count": 69,
   "id": "1fe648fe",
   "metadata": {},
   "outputs": [],
   "source": [
    "predictions=l_model.predict(x_test)"
   ]
  },
  {
   "cell_type": "code",
   "execution_count": 70,
   "id": "7b866cca",
   "metadata": {},
   "outputs": [
    {
     "data": {
      "text/plain": [
       "array([12947.97941169, 16087.46705223,  7576.55058649, 44196.31760373,\n",
       "       10295.4537807 , 52777.22384612, 14809.78429913, 10455.67736844,\n",
       "       38645.48210852, 11496.08471941,  9544.49747813, 10520.22924478,\n",
       "        2950.18796756,  7905.53445307, 10917.59328191,  9377.0910617 ,\n",
       "        8277.11544622, 14521.17818249,  6188.44655271, 12736.55759139,\n",
       "        8123.32737723, 13025.87731353, 11888.4047947 ,  7073.23958644,\n",
       "       16292.40366936,  6716.78679949, 10779.15162807,  9907.27528071,\n",
       "        6575.15309992, 11942.40466669, 31685.80289124, 12961.70944546,\n",
       "        7875.14893542, 16490.54261826, 17674.11574273, 13711.43664293,\n",
       "        9466.6804406 , 30564.2183394 , 25569.85130825,  6155.59212828,\n",
       "        6253.74462205,  9442.4342714 , 15291.0354287 ,  7924.21355202,\n",
       "       11270.34865536,  7192.39198977,  6215.13480171,  8789.52463873,\n",
       "        5071.72105023,  7524.86934968,  9632.11852631,  8309.21350727,\n",
       "       15337.13889583, 41060.83703167, 27054.01742476, 11974.60032763,\n",
       "        4986.00959414,  7270.17854016, 11459.63094785,  5632.94613834,\n",
       "        5667.97440977, 12618.05593438, 14469.68835039,  7767.13180541,\n",
       "       11027.73818516,  3325.56327324, 10215.44304788,  8988.16042582,\n",
       "       13555.30032205, 12331.31236397,  7618.72256632,  9883.52717638,\n",
       "       40327.45582774, 17111.74431025,  5953.34136818, 17645.46308113,\n",
       "       11583.60136271,  7798.3114027 ,  8810.46109722, 32192.72392367,\n",
       "        6686.33905448, 55679.24321074,  2464.5193229 ,  6327.92468353,\n",
       "       10077.06074041,  5898.18539754, 12542.56771788, 13636.23344223,\n",
       "       12948.95728697, 13223.23898308, 13916.1233717 , 11285.34533951,\n",
       "       11053.84363936,  9111.90632712, 14683.46340138, 50032.11574528,\n",
       "       14806.47332162, 13024.16116196, 50850.74572256, 10192.54731521,\n",
       "       10879.29019602,  5312.48680319, 10893.80782406, 11236.66168611,\n",
       "       11253.20102419,  8303.49740674,  9235.36996311,  9906.75879212,\n",
       "       25952.85120795,  4700.42760297, 11968.36770529, 12592.21325411,\n",
       "       20692.15946129,  7456.43878185, 11458.61040245, 10667.07962713,\n",
       "        4370.75396977, 23035.5197882 ,  4802.42113239, 11192.33920721,\n",
       "       10914.87692453, 15005.89720099, 12474.2184929 ,  5373.41863767,\n",
       "       13024.50453784,  8079.86805202, 10598.64855645, 10700.16116916,\n",
       "       11084.60283846,  8958.48284022,  7343.24541531, 13204.48564989,\n",
       "       15357.78847685,  3569.19663418,  5902.75947676, 22935.3975608 ,\n",
       "       10150.03810788, 12364.91363164,  8048.91488592, 12440.67711047,\n",
       "        6594.58509163, 12320.61567213,  6316.43768347,  9771.94445925,\n",
       "        6559.96387565, 12632.24394421, 39236.90336153,  8720.34227714,\n",
       "       35686.85158073, 10566.3115639 , 17511.9188094 , 15191.41683105,\n",
       "       11924.39818981, 35508.59249643,  8531.66262637, 14892.78705773,\n",
       "        9654.85814747,  7393.089835  , 11675.46825943,  7094.81935798,\n",
       "        2896.12316654, 45265.71245016,  8929.61920105, 16108.21895117,\n",
       "       13316.10206371, 25041.85561445,  3620.48583563,  5254.85313929,\n",
       "        5121.09717543, 27108.98474401, 10101.28778939, 15379.19030654,\n",
       "       13275.15512053, 54851.30529205, 21467.64970171,  8592.37677202,\n",
       "        4429.45885356, 11887.16346722,  6158.90203677,  5223.94466424,\n",
       "       10908.02476832,  6860.43001904, 11364.80647855,  7937.95861799,\n",
       "        7491.92669205,  5918.20076428,  5374.89630955,  6275.7417948 ,\n",
       "        8577.10682705, 10416.07962544,  9223.11001711,  8839.79546081,\n",
       "       12464.86947441,  7603.16933155, 52231.86929735, 10213.78722651,\n",
       "       13028.95233538, 18552.67377815,  2566.05090005,  8512.14140297,\n",
       "       12894.88712481,  9297.67085033, 12364.69563979,  6865.37460988,\n",
       "       10742.36216192,  6140.89939871, 14393.65733128, 30664.05014057,\n",
       "       15330.36024373, 49820.49698615, 11499.70511705, 11979.5092838 ,\n",
       "        7784.41938518, 37429.36352246, 26064.96900304,  8509.34430755,\n",
       "       10412.38761359,  4251.20140863,  4560.0053978 , 15661.69418296,\n",
       "        4142.20717849,  5864.42801121,  9408.93330113, 11827.78686348,\n",
       "       24653.52173191, 14414.18710941, 52830.38458278, 11384.47260233,\n",
       "       55437.25930083,  2435.28274668, 12180.6089327 ,  4629.07084717,\n",
       "       19423.02972722, 42785.22726046, 17123.07563524, 11289.44179742,\n",
       "        8183.46883821, 17056.16255633, 55665.72394909, 15607.48640464,\n",
       "       14704.48228413, 13248.33459872, 36091.95235938,  8697.77804952,\n",
       "        9096.49564601, 28609.73471221,  7712.10267258, 15952.99943668,\n",
       "       10409.57156268,  6349.64584104, 12483.60650915,  7483.30159884,\n",
       "       11024.37994307,  8884.44659578,  3683.19033406, 13605.33445091,\n",
       "       10002.61803454, 39775.25287173, 12673.92370537,  8939.54015941,\n",
       "        5880.0241662 ,  9844.67336388, 13432.52553023,  6314.71799621,\n",
       "       11735.68844714, 13188.55389139,  7716.28595926, 11682.84688588])"
      ]
     },
     "execution_count": 70,
     "metadata": {},
     "output_type": "execute_result"
    }
   ],
   "source": [
    "predictions"
   ]
  },
  {
   "cell_type": "code",
   "execution_count": 71,
   "id": "0196347f",
   "metadata": {},
   "outputs": [],
   "source": [
    "from sklearn.metrics import*"
   ]
  },
  {
   "cell_type": "code",
   "execution_count": 72,
   "id": "3cdf7840",
   "metadata": {},
   "outputs": [
    {
     "data": {
      "text/plain": [
       "0.8537964675872464"
      ]
     },
     "execution_count": 72,
     "metadata": {},
     "output_type": "execute_result"
    }
   ],
   "source": [
    "r2_score(y_test,predictions)"
   ]
  },
  {
   "cell_type": "code",
   "execution_count": 74,
   "id": "3aa501f1",
   "metadata": {},
   "outputs": [],
   "source": [
    "error_pred=pd.DataFrame(columns={'Actual_Data','Prediction_Data'})"
   ]
  },
  {
   "cell_type": "raw",
   "id": "89f192f7",
   "metadata": {},
   "source": []
  },
  {
   "cell_type": "code",
   "execution_count": 75,
   "id": "46d2a787",
   "metadata": {},
   "outputs": [
    {
     "data": {
      "text/html": [
       "<div>\n",
       "<style scoped>\n",
       "    .dataframe tbody tr th:only-of-type {\n",
       "        vertical-align: middle;\n",
       "    }\n",
       "\n",
       "    .dataframe tbody tr th {\n",
       "        vertical-align: top;\n",
       "    }\n",
       "\n",
       "    .dataframe thead th {\n",
       "        text-align: right;\n",
       "    }\n",
       "</style>\n",
       "<table border=\"1\" class=\"dataframe\">\n",
       "  <thead>\n",
       "    <tr style=\"text-align: right;\">\n",
       "      <th></th>\n",
       "      <th>Actual_Data</th>\n",
       "      <th>Prediction_Data</th>\n",
       "    </tr>\n",
       "  </thead>\n",
       "  <tbody>\n",
       "  </tbody>\n",
       "</table>\n",
       "</div>"
      ],
      "text/plain": [
       "Empty DataFrame\n",
       "Columns: [Actual_Data, Prediction_Data]\n",
       "Index: []"
      ]
     },
     "execution_count": 75,
     "metadata": {},
     "output_type": "execute_result"
    }
   ],
   "source": [
    "error_pred"
   ]
  },
  {
   "cell_type": "code",
   "execution_count": 76,
   "id": "cff81c67",
   "metadata": {},
   "outputs": [],
   "source": [
    "error_pred['Actual_Data']=y_test\n",
    "error_pred['Prediction_Data']=predictions"
   ]
  },
  {
   "cell_type": "code",
   "execution_count": 77,
   "id": "d07d008b",
   "metadata": {},
   "outputs": [
    {
     "data": {
      "text/html": [
       "<div>\n",
       "<style scoped>\n",
       "    .dataframe tbody tr th:only-of-type {\n",
       "        vertical-align: middle;\n",
       "    }\n",
       "\n",
       "    .dataframe tbody tr th {\n",
       "        vertical-align: top;\n",
       "    }\n",
       "\n",
       "    .dataframe thead th {\n",
       "        text-align: right;\n",
       "    }\n",
       "</style>\n",
       "<table border=\"1\" class=\"dataframe\">\n",
       "  <thead>\n",
       "    <tr style=\"text-align: right;\">\n",
       "      <th></th>\n",
       "      <th>Actual_Data</th>\n",
       "      <th>Prediction_Data</th>\n",
       "    </tr>\n",
       "  </thead>\n",
       "  <tbody>\n",
       "    <tr>\n",
       "      <th>764</th>\n",
       "      <td>10928.84900</td>\n",
       "      <td>12947.979412</td>\n",
       "    </tr>\n",
       "    <tr>\n",
       "      <th>887</th>\n",
       "      <td>12648.70340</td>\n",
       "      <td>16087.467052</td>\n",
       "    </tr>\n",
       "    <tr>\n",
       "      <th>890</th>\n",
       "      <td>12797.20962</td>\n",
       "      <td>7576.550586</td>\n",
       "    </tr>\n",
       "    <tr>\n",
       "      <th>1293</th>\n",
       "      <td>44202.65360</td>\n",
       "      <td>44196.317604</td>\n",
       "    </tr>\n",
       "    <tr>\n",
       "      <th>259</th>\n",
       "      <td>3925.75820</td>\n",
       "      <td>10295.453781</td>\n",
       "    </tr>\n",
       "    <tr>\n",
       "      <th>...</th>\n",
       "      <td>...</td>\n",
       "      <td>...</td>\n",
       "    </tr>\n",
       "    <tr>\n",
       "      <th>109</th>\n",
       "      <td>2154.36100</td>\n",
       "      <td>6314.717996</td>\n",
       "    </tr>\n",
       "    <tr>\n",
       "      <th>575</th>\n",
       "      <td>8062.76400</td>\n",
       "      <td>11735.688447</td>\n",
       "    </tr>\n",
       "    <tr>\n",
       "      <th>535</th>\n",
       "      <td>7371.77200</td>\n",
       "      <td>13188.553891</td>\n",
       "    </tr>\n",
       "    <tr>\n",
       "      <th>543</th>\n",
       "      <td>7448.40395</td>\n",
       "      <td>7716.285959</td>\n",
       "    </tr>\n",
       "    <tr>\n",
       "      <th>846</th>\n",
       "      <td>12029.28670</td>\n",
       "      <td>11682.846886</td>\n",
       "    </tr>\n",
       "  </tbody>\n",
       "</table>\n",
       "<p>268 rows × 2 columns</p>\n",
       "</div>"
      ],
      "text/plain": [
       "      Actual_Data  Prediction_Data\n",
       "764   10928.84900     12947.979412\n",
       "887   12648.70340     16087.467052\n",
       "890   12797.20962      7576.550586\n",
       "1293  44202.65360     44196.317604\n",
       "259    3925.75820     10295.453781\n",
       "...           ...              ...\n",
       "109    2154.36100      6314.717996\n",
       "575    8062.76400     11735.688447\n",
       "535    7371.77200     13188.553891\n",
       "543    7448.40395      7716.285959\n",
       "846   12029.28670     11682.846886\n",
       "\n",
       "[268 rows x 2 columns]"
      ]
     },
     "execution_count": 77,
     "metadata": {},
     "output_type": "execute_result"
    }
   ],
   "source": [
    "error_pred"
   ]
  },
  {
   "cell_type": "code",
   "execution_count": 78,
   "id": "200adb92",
   "metadata": {},
   "outputs": [],
   "source": [
    "error_pred['error']=error_pred['Actual_Data']-error_pred['Prediction_Data']"
   ]
  },
  {
   "cell_type": "code",
   "execution_count": 79,
   "id": "5cbdeca3",
   "metadata": {},
   "outputs": [
    {
     "data": {
      "text/html": [
       "<div>\n",
       "<style scoped>\n",
       "    .dataframe tbody tr th:only-of-type {\n",
       "        vertical-align: middle;\n",
       "    }\n",
       "\n",
       "    .dataframe tbody tr th {\n",
       "        vertical-align: top;\n",
       "    }\n",
       "\n",
       "    .dataframe thead th {\n",
       "        text-align: right;\n",
       "    }\n",
       "</style>\n",
       "<table border=\"1\" class=\"dataframe\">\n",
       "  <thead>\n",
       "    <tr style=\"text-align: right;\">\n",
       "      <th></th>\n",
       "      <th>Actual_Data</th>\n",
       "      <th>Prediction_Data</th>\n",
       "      <th>error</th>\n",
       "    </tr>\n",
       "  </thead>\n",
       "  <tbody>\n",
       "    <tr>\n",
       "      <th>764</th>\n",
       "      <td>10928.84900</td>\n",
       "      <td>12947.979412</td>\n",
       "      <td>-2019.130412</td>\n",
       "    </tr>\n",
       "    <tr>\n",
       "      <th>887</th>\n",
       "      <td>12648.70340</td>\n",
       "      <td>16087.467052</td>\n",
       "      <td>-3438.763652</td>\n",
       "    </tr>\n",
       "    <tr>\n",
       "      <th>890</th>\n",
       "      <td>12797.20962</td>\n",
       "      <td>7576.550586</td>\n",
       "      <td>5220.659034</td>\n",
       "    </tr>\n",
       "    <tr>\n",
       "      <th>1293</th>\n",
       "      <td>44202.65360</td>\n",
       "      <td>44196.317604</td>\n",
       "      <td>6.335996</td>\n",
       "    </tr>\n",
       "    <tr>\n",
       "      <th>259</th>\n",
       "      <td>3925.75820</td>\n",
       "      <td>10295.453781</td>\n",
       "      <td>-6369.695581</td>\n",
       "    </tr>\n",
       "    <tr>\n",
       "      <th>...</th>\n",
       "      <td>...</td>\n",
       "      <td>...</td>\n",
       "      <td>...</td>\n",
       "    </tr>\n",
       "    <tr>\n",
       "      <th>109</th>\n",
       "      <td>2154.36100</td>\n",
       "      <td>6314.717996</td>\n",
       "      <td>-4160.356996</td>\n",
       "    </tr>\n",
       "    <tr>\n",
       "      <th>575</th>\n",
       "      <td>8062.76400</td>\n",
       "      <td>11735.688447</td>\n",
       "      <td>-3672.924447</td>\n",
       "    </tr>\n",
       "    <tr>\n",
       "      <th>535</th>\n",
       "      <td>7371.77200</td>\n",
       "      <td>13188.553891</td>\n",
       "      <td>-5816.781891</td>\n",
       "    </tr>\n",
       "    <tr>\n",
       "      <th>543</th>\n",
       "      <td>7448.40395</td>\n",
       "      <td>7716.285959</td>\n",
       "      <td>-267.882009</td>\n",
       "    </tr>\n",
       "    <tr>\n",
       "      <th>846</th>\n",
       "      <td>12029.28670</td>\n",
       "      <td>11682.846886</td>\n",
       "      <td>346.439814</td>\n",
       "    </tr>\n",
       "  </tbody>\n",
       "</table>\n",
       "<p>268 rows × 3 columns</p>\n",
       "</div>"
      ],
      "text/plain": [
       "      Actual_Data  Prediction_Data        error\n",
       "764   10928.84900     12947.979412 -2019.130412\n",
       "887   12648.70340     16087.467052 -3438.763652\n",
       "890   12797.20962      7576.550586  5220.659034\n",
       "1293  44202.65360     44196.317604     6.335996\n",
       "259    3925.75820     10295.453781 -6369.695581\n",
       "...           ...              ...          ...\n",
       "109    2154.36100      6314.717996 -4160.356996\n",
       "575    8062.76400     11735.688447 -3672.924447\n",
       "535    7371.77200     13188.553891 -5816.781891\n",
       "543    7448.40395      7716.285959  -267.882009\n",
       "846   12029.28670     11682.846886   346.439814\n",
       "\n",
       "[268 rows x 3 columns]"
      ]
     },
     "execution_count": 79,
     "metadata": {},
     "output_type": "execute_result"
    }
   ],
   "source": [
    "error_pred"
   ]
  },
  {
   "cell_type": "code",
   "execution_count": null,
   "id": "b2c1fe46",
   "metadata": {},
   "outputs": [],
   "source": []
  }
 ],
 "metadata": {
  "kernelspec": {
   "display_name": "Python 3 (ipykernel)",
   "language": "python",
   "name": "python3"
  },
  "language_info": {
   "codemirror_mode": {
    "name": "ipython",
    "version": 3
   },
   "file_extension": ".py",
   "mimetype": "text/x-python",
   "name": "python",
   "nbconvert_exporter": "python",
   "pygments_lexer": "ipython3",
   "version": "3.9.13"
  }
 },
 "nbformat": 4,
 "nbformat_minor": 5
}
